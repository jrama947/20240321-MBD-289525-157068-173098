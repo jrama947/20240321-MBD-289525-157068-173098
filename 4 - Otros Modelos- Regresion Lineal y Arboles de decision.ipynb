{
 "cells": [
  {
   "cell_type": "markdown",
   "metadata": {
    "id": "5Va2dZsnrWo1"
   },
   "source": [
    "### Modelado"
   ]
  },
  {
   "cell_type": "code",
   "execution_count": 1,
   "metadata": {},
   "outputs": [
    {
     "name": "stdout",
     "output_type": "stream",
     "text": [
      "Requirement already satisfied: statsmodels in /opt/conda/lib/python3.7/site-packages (0.13.1)\n",
      "Requirement already satisfied: scipy>=1.3 in /opt/conda/lib/python3.7/site-packages (from statsmodels) (1.7.3)\n",
      "Requirement already satisfied: patsy>=0.5.2 in /opt/conda/lib/python3.7/site-packages (from statsmodels) (0.5.2)\n",
      "Requirement already satisfied: pandas>=0.25 in /opt/conda/lib/python3.7/site-packages (from statsmodels) (1.3.4)\n",
      "Requirement already satisfied: numpy>=1.17 in /opt/conda/lib/python3.7/site-packages (from statsmodels) (1.18.5)\n",
      "Requirement already satisfied: python-dateutil>=2.7.3 in /opt/conda/lib/python3.7/site-packages (from pandas>=0.25->statsmodels) (2.8.2)\n",
      "Requirement already satisfied: pytz>=2017.3 in /opt/conda/lib/python3.7/site-packages (from pandas>=0.25->statsmodels) (2021.3)\n",
      "Requirement already satisfied: six in /opt/conda/lib/python3.7/site-packages (from patsy>=0.5.2->statsmodels) (1.16.0)\n",
      "Note: you may need to restart the kernel to use updated packages.\n"
     ]
    }
   ],
   "source": [
    "pip install statsmodels"
   ]
  },
  {
   "cell_type": "code",
   "execution_count": 2,
   "metadata": {},
   "outputs": [
    {
     "name": "stdout",
     "output_type": "stream",
     "text": [
      "Requirement already satisfied: xgboost in /opt/conda/lib/python3.7/site-packages (1.6.2)\n",
      "Requirement already satisfied: numpy in /opt/conda/lib/python3.7/site-packages (from xgboost) (1.18.5)\n",
      "Requirement already satisfied: scipy in /opt/conda/lib/python3.7/site-packages (from xgboost) (1.7.3)\n",
      "Note: you may need to restart the kernel to use updated packages.\n"
     ]
    }
   ],
   "source": [
    "pip install xgboost"
   ]
  },
  {
   "cell_type": "code",
   "execution_count": 3,
   "metadata": {},
   "outputs": [
    {
     "name": "stdout",
     "output_type": "stream",
     "text": [
      "Requirement already satisfied: lightgbm in /opt/conda/lib/python3.7/site-packages (4.3.0)\n",
      "Requirement already satisfied: scipy in /opt/conda/lib/python3.7/site-packages (from lightgbm) (1.7.3)\n",
      "Requirement already satisfied: numpy in /opt/conda/lib/python3.7/site-packages (from lightgbm) (1.18.5)\n",
      "Note: you may need to restart the kernel to use updated packages.\n"
     ]
    }
   ],
   "source": [
    "pip install lightgbm"
   ]
  },
  {
   "cell_type": "code",
   "execution_count": 4,
   "metadata": {},
   "outputs": [
    {
     "name": "stdout",
     "output_type": "stream",
     "text": [
      "Requirement already satisfied: skfeature-chappers in /opt/conda/lib/python3.7/site-packages (1.1.0)\n",
      "Requirement already satisfied: numpy in /opt/conda/lib/python3.7/site-packages (from skfeature-chappers) (1.18.5)\n",
      "Requirement already satisfied: pandas in /opt/conda/lib/python3.7/site-packages (from skfeature-chappers) (1.3.4)\n",
      "Requirement already satisfied: scikit-learn in /opt/conda/lib/python3.7/site-packages (from skfeature-chappers) (1.0.1)\n",
      "Requirement already satisfied: python-dateutil>=2.7.3 in /opt/conda/lib/python3.7/site-packages (from pandas->skfeature-chappers) (2.8.2)\n",
      "Requirement already satisfied: pytz>=2017.3 in /opt/conda/lib/python3.7/site-packages (from pandas->skfeature-chappers) (2021.3)\n",
      "Requirement already satisfied: scipy>=1.1.0 in /opt/conda/lib/python3.7/site-packages (from scikit-learn->skfeature-chappers) (1.7.3)\n",
      "Requirement already satisfied: threadpoolctl>=2.0.0 in /opt/conda/lib/python3.7/site-packages (from scikit-learn->skfeature-chappers) (3.0.0)\n",
      "Requirement already satisfied: joblib>=0.11 in /opt/conda/lib/python3.7/site-packages (from scikit-learn->skfeature-chappers) (1.1.0)\n",
      "Requirement already satisfied: six>=1.5 in /opt/conda/lib/python3.7/site-packages (from python-dateutil>=2.7.3->pandas->skfeature-chappers) (1.16.0)\n",
      "Note: you may need to restart the kernel to use updated packages.\n"
     ]
    }
   ],
   "source": [
    "pip install skfeature-chappers"
   ]
  },
  {
   "cell_type": "code",
   "execution_count": 8,
   "metadata": {},
   "outputs": [],
   "source": [
    "import random\n",
    "import pandas as pd\n",
    "import numpy as np\n",
    "import matplotlib.pyplot as plt\n",
    "import seaborn as sns\n",
    "import plotly.express as px\n",
    "import plotly.graph_objects as go\n",
    "\n",
    "from sklearn.impute import KNNImputer\n",
    "from sklearn.preprocessing import LabelEncoder\n",
    "\n",
    "from sklearn.model_selection import train_test_split\n",
    "\n",
    "from sklearn.preprocessing import StandardScaler\n",
    "from sklearn.model_selection import GridSearchCV\n",
    "from sklearn.feature_selection import SelectKBest, f_regression  # Import SelectKBest\n",
    "\n",
    "from sklearn.linear_model import LinearRegression\n",
    "from sklearn.tree import DecisionTreeRegressor\n",
    "from sklearn.ensemble import RandomForestRegressor\n",
    "from sklearn.ensemble import BaggingRegressor\n",
    "\n",
    "from sklearn.metrics import mean_squared_error, r2_score, mean_absolute_error\n",
    "from sklearn.feature_selection import f_regression\n",
    "from sklearn.feature_selection import mutual_info_regression\n",
    "from sklearn.model_selection import KFold, cross_val_score, cross_val_predict\n",
    "from sklearn.inspection import permutation_importance\n",
    "import multiprocessing  \n",
    "from sklearn.tree import export_graphviz\n",
    "import graphviz\n",
    "\n",
    "from sklearn.linear_model import LinearRegression\n",
    "from sklearn.model_selection import cross_val_score, KFold\n",
    "from sklearn.metrics import mean_squared_error, r2_score, mean_absolute_error\n",
    "import numpy as np\n",
    "\n",
    "from sklearn.model_selection import GridSearchCV, KFold\n",
    "from sklearn.tree import DecisionTreeRegressor\n",
    "import numpy as np\n",
    "\n",
    "import warnings\n",
    "warnings.filterwarnings(\"ignore\")\n",
    "\n",
    "pd.set_option('display.max_rows', 120)\n",
    "pd.set_option('display.max_columns', None)"
   ]
  },
  {
   "cell_type": "code",
   "execution_count": 9,
   "metadata": {},
   "outputs": [],
   "source": [
    "X_train = pd.read_csv('X_train.csv.gz')\n",
    "X_test = pd.read_csv('X_test.csv.gz')\n",
    "y_train = pd.read_csv('y_train.csv.gz')\n",
    "y_test = pd.read_csv('y_test.csv.gz')"
   ]
  },
  {
   "cell_type": "code",
   "execution_count": 10,
   "metadata": {},
   "outputs": [],
   "source": [
    "y_train = y_train.drop(columns=['price'])\n",
    "y_test = y_test.drop(columns=['price'])"
   ]
  },
  {
   "cell_type": "code",
   "execution_count": 11,
   "metadata": {
    "id": "nTtMIGN8sBLv"
   },
   "outputs": [],
   "source": [
    "#selected_columns = ['accommodates','bedrooms', 'bathrooms_count' ,'number_of_reviews',\n",
    "                              #'availability_30', \n",
    "                              #'antiguedad', 'host_is_superhost_encoded','room_type_encoded', 'amenity_count', 'neighbourhood_cleansed_encoded', 'month']\n",
    "\n",
    "X_train_reg =  X_train.drop(['date', 'latitude', 'longitude', 'available', 'host_is_superhost', 'amenities', 'neighbourhood_cleansed', 'room_type'], axis=1)\n",
    "X_test_reg = X_test.drop(['date', 'latitude', 'longitude', 'available', 'host_is_superhost', 'amenities', 'neighbourhood_cleansed', 'room_type'], axis=1)"
   ]
  },
  {
   "cell_type": "code",
   "execution_count": 8,
   "metadata": {},
   "outputs": [],
   "source": [
    "f_scores, _ = f_regression(X_train_reg, y_train)\n",
    "minfo_reg = mutual_info_regression(X_train_reg, y_train)"
   ]
  },
  {
   "cell_type": "code",
   "execution_count": 9,
   "metadata": {},
   "outputs": [
    {
     "data": {
      "image/png": "[encoded data removed]",
      "text/plain": [
       "<Figure size 720x432 with 1 Axes>"
      ]
     },
     "metadata": {
      "needs_background": "light"
     },
     "output_type": "display_data"
    }
   ],
   "source": [
    "feature_names = X_train.columns  \n",
    "\n",
    "sorted_indices = sorted(range(len(f_scores)), key=lambda k: f_scores[k], reverse=True)\n",
    "sorted_features = [feature_names[i] for i in sorted_indices]\n",
    "sorted_scores = [f_scores[i] for i in sorted_indices]\n",
    "\n",
    "plt.figure(figsize=(10, 6))\n",
    "plt.bar(range(len(sorted_scores)), sorted_scores, align='center')\n",
    "plt.xticks(range(len(sorted_scores)), sorted_features, rotation=45,fontsize=8)\n",
    "plt.xlabel('Features')\n",
    "plt.ylabel('Fischer Scores')\n",
    "plt.title('Fischer Scores for Features (Sorted)')\n",
    "plt.show()\n"
   ]
  },
  {
   "cell_type": "code",
   "execution_count": 10,
   "metadata": {},
   "outputs": [
    {
     "name": "stdout",
     "output_type": "stream",
     "text": [
      "host_response_rate: 2451082.523669038\n",
      "host_acceptance_rate: 2278871.0082094735\n",
      "host_is_superhost: 1382433.078856904\n",
      "availability_90: 912141.6359233384\n",
      "availability_30: 637752.0278734996\n",
      "accommodates: 181766.3574715468\n",
      "latitude: 146316.4404871971\n",
      "neighbourhood_cleansed: 132084.22248608415\n",
      "room_type: 115040.06533198517\n",
      "longitude: 113658.38669161014\n",
      "reviews_per_month: 90160.52971054481\n",
      "availability_60: 70764.2616642256\n",
      "available: 56106.560430524696\n",
      "bedrooms: 25829.26656101249\n",
      "date: 17905.23015179766\n",
      "amenities: 11581.051662502401\n",
      "review_scores_rating: 4055.547293509782\n",
      "bathrooms_count: 3360.042072655646\n",
      "review_scores_value: 764.9032327832188\n",
      "shared: 701.1550411958754\n",
      "availability_365: 622.9120480430107\n",
      "number_of_reviews: 179.25130392883045\n"
     ]
    }
   ],
   "source": [
    "for feature, score in zip(sorted_features, sorted_scores):\n",
    "    print(f'{feature}: {score}')"
   ]
  },
  {
   "cell_type": "code",
   "execution_count": 11,
   "metadata": {},
   "outputs": [
    {
     "data": {
      "image/png": "[encoded data removed]",
      "text/plain": [
       "<Figure size 720x432 with 1 Axes>"
      ]
     },
     "metadata": {
      "needs_background": "light"
     },
     "output_type": "display_data"
    }
   ],
   "source": [
    "feature_names = X_train.columns  \n",
    "\n",
    "sorted_indices = sorted(range(len(minfo_reg)), key=lambda k: minfo_reg[k], reverse=True)\n",
    "sorted_features = [feature_names[i] for i in sorted_indices]\n",
    "sorted_scores = [minfo_reg[i] for i in sorted_indices]\n",
    "\n",
    "plt.figure(figsize=(10, 6))\n",
    "plt.bar(range(len(sorted_scores)), sorted_scores, align='center')\n",
    "plt.xticks(range(len(sorted_scores)), sorted_features, rotation=45,fontsize=8)\n",
    "plt.xlabel('Features')\n",
    "plt.ylabel('Fischer Scores')\n",
    "plt.title('Fischer Scores for Features (Sorted)')\n",
    "plt.show()\n"
   ]
  },
  {
   "cell_type": "code",
   "execution_count": 12,
   "metadata": {},
   "outputs": [
    {
     "name": "stdout",
     "output_type": "stream",
     "text": [
      "reviews_per_month: 2.8264434764862267\n",
      "amenities: 1.256980044402595\n",
      "room_type: 1.0215154571499774\n",
      "accommodates: 0.5714283826178503\n",
      "available: 0.5422580918354285\n",
      "longitude: 0.5224380889752052\n",
      "bedrooms: 0.49827017120314476\n",
      "bathrooms_count: 0.4617518854668381\n",
      "latitude: 0.4365611923825412\n",
      "shared: 0.37249176135437256\n",
      "date: 0.36337794056740247\n",
      "host_response_rate: 0.33700755007189187\n",
      "neighbourhood_cleansed: 0.30422834768964435\n",
      "host_acceptance_rate: 0.2507108380977776\n",
      "host_is_superhost: 0.22545670552036157\n",
      "availability_90: 0.12526652499390512\n",
      "availability_30: 0.07332150658634351\n",
      "availability_60: 0.04157862771153109\n",
      "review_scores_rating: 0.02265070823435078\n",
      "number_of_reviews: 0.006992294942646637\n",
      "availability_365: 0.004672855102069384\n",
      "review_scores_value: 0.0013575510575769556\n"
     ]
    }
   ],
   "source": [
    "for feature, score in zip(sorted_features, sorted_scores):\n",
    "    print(f'{feature}: {score}')"
   ]
  },
  {
   "cell_type": "markdown",
   "metadata": {
    "id": "tzeDi-tMsMgt"
   },
   "source": [
    "#### Regresion Lineal"
   ]
  },
  {
   "cell_type": "code",
   "execution_count": 13,
   "metadata": {},
   "outputs": [
    {
     "data": {
      "text/plain": [
       "LinearRegression()"
      ]
     },
     "execution_count": 13,
     "metadata": {},
     "output_type": "execute_result"
    }
   ],
   "source": [
    "modelreg = LinearRegression()\n",
    "\n",
    "modelreg.fit(X_train_reg, y_train)"
   ]
  },
  {
   "cell_type": "code",
   "execution_count": 14,
   "metadata": {},
   "outputs": [
    {
     "data": {
      "text/plain": [
       "Text(0.5, 1.0, 'Fischer Scores Variables')"
      ]
     },
     "execution_count": 14,
     "metadata": {},
     "output_type": "execute_result"
    },
    {
     "data": {
      "image/png": "[encoded data removed]",
      "text/plain": [
       "<Figure size 1080x720 with 1 Axes>"
      ]
     },
     "metadata": {
      "needs_background": "light"
     },
     "output_type": "display_data"
    }
   ],
   "source": [
    "k_values = np.arange(2, 21)\n",
    "\n",
    "feature_scores = []\n",
    "\n",
    "for k in k_values:\n",
    "    selector = SelectKBest(f_regression, k=k)\n",
    "    X_new = selector.fit_transform(X_train_reg, y_train)\n",
    "\n",
    "    scores = cross_val_score(modelreg, X_new, y_train, cv=5)\n",
    "\n",
    "    feature_scores.append(selector.scores_)\n",
    "\n",
    "feature_scores = np.array(feature_scores)\n",
    "\n",
    "plt.figure(figsize=(15, 10))\n",
    "\n",
    "plt.subplot(2, 1, 1)\n",
    "feature_names = X_train.columns\n",
    "f_scores = selector.scores_\n",
    "sorted_indices = sorted(range(len(f_scores)), key=lambda k: f_scores[k], reverse=True)\n",
    "sorted_features = [feature_names[i] for i in sorted_indices]\n",
    "sorted_scores = [f_scores[i] for i in sorted_indices]\n",
    "\n",
    "plt.bar(range(len(sorted_scores)), sorted_scores, align='center')\n",
    "plt.xticks(range(len(sorted_scores)), sorted_features, rotation=45, fontsize=8)\n",
    "plt.xlabel('Variables')\n",
    "plt.ylabel('Fischer Scores')\n",
    "plt.title('Fischer Scores Variables')\n"
   ]
  },
  {
   "cell_type": "code",
   "execution_count": 18,
   "metadata": {},
   "outputs": [
    {
     "name": "stdout",
     "output_type": "stream",
     "text": [
      "k=2, Selected Features: Index(['accommodates', 'bathrooms_count'], dtype='object'), Average Score: 0.2899942799586777\n",
      "k=3, Selected Features: Index(['accommodates', 'bathrooms_count', 'bedrooms'], dtype='object'), Average Score: 0.290487298743484\n",
      "k=4, Selected Features: Index(['accommodates', 'bathrooms_count', 'bedrooms', 'room_type_encoded'], dtype='object'), Average Score: 0.3336040347404874\n",
      "k=5, Selected Features: Index(['accommodates', 'bathrooms_count', 'bedrooms', 'shared',\n",
      "       'room_type_encoded'],\n",
      "      dtype='object'), Average Score: 0.33959543294557015\n",
      "k=6, Selected Features: Index(['accommodates', 'bathrooms_count', 'bedrooms', 'number_of_reviews',\n",
      "       'shared', 'room_type_encoded'],\n",
      "      dtype='object'), Average Score: 0.357814814278495\n",
      "k=7, Selected Features: Index(['accommodates', 'bathrooms_count', 'bedrooms', 'availability_60',\n",
      "       'number_of_reviews', 'shared', 'room_type_encoded'],\n",
      "      dtype='object'), Average Score: 0.3711650658882831\n",
      "k=8, Selected Features: Index(['accommodates', 'bathrooms_count', 'bedrooms', 'availability_30',\n",
      "       'availability_60', 'number_of_reviews', 'shared', 'room_type_encoded'],\n",
      "      dtype='object'), Average Score: 0.3712579365176407\n",
      "k=9, Selected Features: Index(['accommodates', 'bathrooms_count', 'bedrooms', 'availability_30',\n",
      "       'availability_60', 'availability_365', 'number_of_reviews', 'shared',\n",
      "       'room_type_encoded'],\n",
      "      dtype='object'), Average Score: 0.37179535441602163\n",
      "k=10, Selected Features: Index(['accommodates', 'bathrooms_count', 'bedrooms', 'availability_30',\n",
      "       'availability_60', 'availability_90', 'availability_365',\n",
      "       'number_of_reviews', 'shared', 'room_type_encoded'],\n",
      "      dtype='object'), Average Score: 0.3753000268139394\n",
      "k=11, Selected Features: Index(['accommodates', 'bathrooms_count', 'bedrooms', 'availability_30',\n",
      "       'availability_60', 'availability_90', 'availability_365',\n",
      "       'number_of_reviews', 'shared', 'room_type_encoded', 'antiguedad'],\n",
      "      dtype='object'), Average Score: 0.38168161414704843\n",
      "k=12, Selected Features: Index(['accommodates', 'bathrooms_count', 'bedrooms', 'availability_30',\n",
      "       'availability_60', 'availability_90', 'availability_365',\n",
      "       'number_of_reviews', 'shared', 'host_is_superhost_encoded',\n",
      "       'room_type_encoded', 'antiguedad'],\n",
      "      dtype='object'), Average Score: 0.3825915547226348\n",
      "k=13, Selected Features: Index(['host_acceptance_rate', 'accommodates', 'bathrooms_count', 'bedrooms',\n",
      "       'availability_30', 'availability_60', 'availability_90',\n",
      "       'availability_365', 'number_of_reviews', 'shared',\n",
      "       'host_is_superhost_encoded', 'room_type_encoded', 'antiguedad'],\n",
      "      dtype='object'), Average Score: 0.3827228701205077\n",
      "k=14, Selected Features: Index(['host_acceptance_rate', 'accommodates', 'bathrooms_count', 'bedrooms',\n",
      "       'availability_30', 'availability_60', 'availability_90',\n",
      "       'availability_365', 'number_of_reviews', 'review_scores_value',\n",
      "       'shared', 'host_is_superhost_encoded', 'room_type_encoded',\n",
      "       'antiguedad'],\n",
      "      dtype='object'), Average Score: 0.38281313287297014\n",
      "k=15, Selected Features: Index(['host_response_rate', 'host_acceptance_rate', 'accommodates',\n",
      "       'bathrooms_count', 'bedrooms', 'availability_30', 'availability_60',\n",
      "       'availability_90', 'availability_365', 'number_of_reviews',\n",
      "       'review_scores_value', 'shared', 'host_is_superhost_encoded',\n",
      "       'room_type_encoded', 'antiguedad'],\n",
      "      dtype='object'), Average Score: 0.38292880530450507\n",
      "k=16, Selected Features: Index(['host_response_rate', 'host_acceptance_rate', 'accommodates',\n",
      "       'bathrooms_count', 'bedrooms', 'availability_30', 'availability_60',\n",
      "       'availability_90', 'availability_365', 'number_of_reviews',\n",
      "       'review_scores_value', 'reviews_per_month', 'shared',\n",
      "       'host_is_superhost_encoded', 'room_type_encoded', 'antiguedad'],\n",
      "      dtype='object'), Average Score: 0.3841507311432534\n",
      "k=17, Selected Features: Index(['host_response_rate', 'host_acceptance_rate', 'accommodates',\n",
      "       'bathrooms_count', 'bedrooms', 'availability_30', 'availability_60',\n",
      "       'availability_90', 'availability_365', 'number_of_reviews',\n",
      "       'review_scores_value', 'reviews_per_month', 'shared',\n",
      "       'host_is_superhost_encoded', 'room_type_encoded', 'month',\n",
      "       'antiguedad'],\n",
      "      dtype='object'), Average Score: 0.3846803305072312\n",
      "k=18, Selected Features: Index(['host_response_rate', 'host_acceptance_rate', 'accommodates',\n",
      "       'bathrooms_count', 'bedrooms', 'availability_30', 'availability_60',\n",
      "       'availability_90', 'availability_365', 'number_of_reviews',\n",
      "       'review_scores_rating', 'review_scores_value', 'reviews_per_month',\n",
      "       'shared', 'host_is_superhost_encoded', 'room_type_encoded', 'month',\n",
      "       'antiguedad'],\n",
      "      dtype='object'), Average Score: 0.3849523587615315\n",
      "k=19, Selected Features: Index(['host_response_rate', 'host_acceptance_rate', 'accommodates',\n",
      "       'bathrooms_count', 'bedrooms', 'availability_30', 'availability_60',\n",
      "       'availability_90', 'availability_365', 'number_of_reviews',\n",
      "       'review_scores_rating', 'review_scores_value', 'reviews_per_month',\n",
      "       'shared', 'host_is_superhost_encoded', 'room_type_encoded', 'month',\n",
      "       'numero_dia', 'antiguedad'],\n",
      "      dtype='object'), Average Score: 0.3850599492785239\n",
      "k=20, Selected Features: Index(['host_response_rate', 'host_acceptance_rate', 'accommodates',\n",
      "       'bathrooms_count', 'bedrooms', 'availability_30', 'availability_60',\n",
      "       'availability_90', 'availability_365', 'number_of_reviews',\n",
      "       'review_scores_rating', 'review_scores_value', 'reviews_per_month',\n",
      "       'shared', 'host_is_superhost_encoded', 'room_type_encoded', 'month',\n",
      "       'numero_dia', 'antiguedad', 'neighbourhood_cleansed_encoded'],\n",
      "      dtype='object'), Average Score: 0.38514249456003763\n"
     ]
    },
    {
     "data": {
      "image/png": "[encoded data removed]",
      "text/plain": [
       "<Figure size 432x288 with 1 Axes>"
      ]
     },
     "metadata": {
      "needs_background": "light"
     },
     "output_type": "display_data"
    }
   ],
   "source": [
    "k_values = np.arange(2, 21)\n",
    "average_scores_reg = []  \n",
    "\n",
    "for k in k_values:\n",
    "    selector = SelectKBest(f_regression, k=k)\n",
    "    X_new = selector.fit_transform(X_train_reg, y_train)\n",
    "\n",
    "    scores_reg = cross_val_score(modelreg, X_new, y_train, cv=5)\n",
    "    average_score_reg = scores_reg.mean() \n",
    "\n",
    "    selected_features_mask = selector.get_support()\n",
    "    selected_features_reg = X_train_reg.columns[selected_features_mask]\n",
    "\n",
    "    print(f'k={k}, Selected Features: {selected_features_reg}, Average Score: {average_score_reg}')\n",
    "\n",
    "    average_scores_reg.append(average_score_reg)\n",
    "\n",
    "plt.plot(k_values, average_scores_reg, marker='o')\n",
    "plt.title('Average Cross-Validation Score vs. k')\n",
    "plt.xlabel('k (Number of Features)')\n",
    "plt.ylabel('Average Score')\n",
    "plt.show()"
   ]
  },
  {
   "cell_type": "code",
   "execution_count": 19,
   "metadata": {},
   "outputs": [],
   "source": [
    "modelreg.fit(X_train_reg, y_train)\n",
    "\n",
    "y_train_pred_reg = modelreg.predict(X_train_reg)\n",
    "\n",
    "y_test_pred_reg = modelreg.predict(X_test_reg)\n",
    "\n",
    "mse_train_reg = mean_squared_error(y_train, y_train_pred_reg)\n",
    "rmse_train_reg = np.sqrt(mse_train_reg)\n",
    "r2_train_reg = r2_score(y_train, y_train_pred_reg)\n",
    "\n",
    "mse_test_reg = mean_squared_error(y_test, y_test_pred_reg)\n",
    "rmse_test_reg = np.sqrt(mse_test_reg)\n",
    "r2_test_reg = r2_score(y_test, y_test_pred_reg)\n",
    "\n",
    "mae_train_reg = mean_absolute_error(y_train, y_train_pred_reg)\n",
    "\n",
    "mae_test_reg = mean_absolute_error(y_test, y_test_pred_reg)\n",
    "\n",
    "percentage_error_train_reg = np.mean(np.exp(y_train_pred_reg - y_train)) - 1\n",
    "\n",
    "percentage_error_test_reg = np.mean(np.exp(y_test_pred_reg - y_test)) - 1"
   ]
  },
  {
   "cell_type": "code",
   "execution_count": 20,
   "metadata": {},
   "outputs": [
    {
     "name": "stdout",
     "output_type": "stream",
     "text": [
      "Metrics for the Training Set:\n",
      "  Mean Squared Error (MSE): 0.5452897693188324\n",
      "  Root Mean Squared Error (RMSE): 0.7384373834786755\n",
      "  R-squared (R2): 0.385555818912217\n",
      "  Mean Absolute Error (MAE): 0.5432263934562005\n",
      "  Percentage Error: log_price    0.33241\n",
      "dtype: float64\n",
      "\n",
      "Metrics for the Testing Set:\n",
      "  Mean Squared Error (MSE): 0.5432649898506321\n",
      "  Root Mean Squared Error (RMSE): 0.737065119138487\n",
      "  R-squared (R2): 0.3860965492916004\n",
      "  Mean Absolute Error (MAE): 0.5424926311623397\n",
      "  Percentage Error: log_price    0.334784\n",
      "dtype: float64\n"
     ]
    }
   ],
   "source": [
    "print(\"Metrics for the Training Set:\")\n",
    "print(f\"  Mean Squared Error (MSE): {mse_train_reg}\")\n",
    "print(f\"  Root Mean Squared Error (RMSE): {rmse_train_reg}\")\n",
    "print(f\"  R-squared (R2): {r2_train_reg}\")\n",
    "print(f\"  Mean Absolute Error (MAE): {mae_train_reg}\")\n",
    "print(f\"  Percentage Error: {percentage_error_train_reg}\\n\")\n",
    "\n",
    "print(\"Metrics for the Testing Set:\")\n",
    "print(f\"  Mean Squared Error (MSE): {mse_test_reg}\")\n",
    "print(f\"  Root Mean Squared Error (RMSE): {rmse_test_reg}\")\n",
    "print(f\"  R-squared (R2): {r2_test_reg}\")\n",
    "print(f\"  Mean Absolute Error (MAE): {mae_test_reg}\")\n",
    "print(f\"  Percentage Error: {percentage_error_test_reg}\")\n"
   ]
  },
  {
   "cell_type": "markdown",
   "metadata": {
    "id": "34N--yttsZ_8"
   },
   "source": [
    "#### Decision Tree"
   ]
  },
  {
   "cell_type": "code",
   "execution_count": 12,
   "metadata": {},
   "outputs": [],
   "source": [
    "model_dt = DecisionTreeRegressor(random_state=42)"
   ]
  },
  {
   "cell_type": "code",
   "execution_count": 27,
   "metadata": {},
   "outputs": [
    {
     "data": {
      "text/plain": [
       "Text(0.5, 1.0, 'Fischer Scores for Features (Sorted)')"
      ]
     },
     "execution_count": 27,
     "metadata": {},
     "output_type": "execute_result"
    },
    {
     "data": {
      "image/png": "[encoded data removed]",
      "text/plain": [
       "<Figure size 1080x720 with 1 Axes>"
      ]
     },
     "metadata": {
      "needs_background": "light"
     },
     "output_type": "display_data"
    }
   ],
   "source": [
    "k_values = np.arange(2, 21)\n",
    "\n",
    "feature_scores = []\n",
    "\n",
    "for k in k_values:\n",
    "    selector = SelectKBest(f_regression, k=k)\n",
    "    X_new = selector.fit_transform(X_train_reg, y_train)\n",
    "\n",
    "    scores = cross_val_score(model_dt, X_new, y_train, cv=5)\n",
    "    \n",
    "    feature_scores.append(selector.scores_)\n",
    "\n",
    "feature_scores = np.array(feature_scores)\n",
    "\n",
    "plt.figure(figsize=(15, 10))\n",
    "\n",
    "plt.subplot(2, 1, 1)\n",
    "feature_names = X_train.columns\n",
    "f_scores = selector.scores_\n",
    "sorted_indices = sorted(range(len(f_scores)), key=lambda k: f_scores[k], reverse=True)\n",
    "sorted_features = [feature_names[i] for i in sorted_indices]\n",
    "sorted_scores = [f_scores[i] for i in sorted_indices]\n",
    "\n",
    "plt.bar(range(len(sorted_scores)), sorted_scores, align='center')\n",
    "plt.xticks(range(len(sorted_scores)), sorted_features, rotation=45, fontsize=8)\n",
    "plt.xlabel('Features')\n",
    "plt.ylabel('Fischer Scores')\n",
    "plt.title('Fischer Scores for Features (Sorted)')"
   ]
  },
  {
   "cell_type": "code",
   "execution_count": 28,
   "metadata": {},
   "outputs": [
    {
     "name": "stdout",
     "output_type": "stream",
     "text": [
      "k=2, Selected Features: Index(['accommodates', 'bathrooms_count'], dtype='object'), Average Score: 0.34889163244690724\n",
      "k=3, Selected Features: Index(['accommodates', 'bathrooms_count', 'bedrooms'], dtype='object'), Average Score: 0.38424081823217915\n",
      "k=4, Selected Features: Index(['accommodates', 'bathrooms_count', 'bedrooms', 'room_type_encoded'], dtype='object'), Average Score: 0.4076410305633445\n",
      "k=5, Selected Features: Index(['accommodates', 'bathrooms_count', 'bedrooms', 'shared',\n",
      "       'room_type_encoded'],\n",
      "      dtype='object'), Average Score: 0.41224648287481236\n",
      "k=6, Selected Features: Index(['accommodates', 'bathrooms_count', 'bedrooms', 'number_of_reviews',\n",
      "       'shared', 'room_type_encoded'],\n",
      "      dtype='object'), Average Score: 0.5484272472811746\n",
      "k=7, Selected Features: Index(['accommodates', 'bathrooms_count', 'bedrooms', 'availability_60',\n",
      "       'number_of_reviews', 'shared', 'room_type_encoded'],\n",
      "      dtype='object'), Average Score: 0.7118407808877241\n",
      "k=8, Selected Features: Index(['accommodates', 'bathrooms_count', 'bedrooms', 'availability_30',\n",
      "       'availability_60', 'number_of_reviews', 'shared', 'room_type_encoded'],\n",
      "      dtype='object'), Average Score: 0.7287784298641323\n",
      "k=9, Selected Features: Index(['accommodates', 'bathrooms_count', 'bedrooms', 'availability_30',\n",
      "       'availability_60', 'availability_365', 'number_of_reviews', 'shared',\n",
      "       'room_type_encoded'],\n",
      "      dtype='object'), Average Score: 0.805546279373243\n",
      "k=10, Selected Features: Index(['accommodates', 'bathrooms_count', 'bedrooms', 'availability_30',\n",
      "       'availability_60', 'availability_90', 'availability_365',\n",
      "       'number_of_reviews', 'shared', 'room_type_encoded'],\n",
      "      dtype='object'), Average Score: 0.8056082025029816\n",
      "k=11, Selected Features: Index(['accommodates', 'bathrooms_count', 'bedrooms', 'availability_30',\n",
      "       'availability_60', 'availability_90', 'availability_365',\n",
      "       'number_of_reviews', 'shared', 'room_type_encoded', 'antiguedad'],\n",
      "      dtype='object'), Average Score: 0.9220709925414239\n",
      "k=12, Selected Features: Index(['accommodates', 'bathrooms_count', 'bedrooms', 'availability_30',\n",
      "       'availability_60', 'availability_90', 'availability_365',\n",
      "       'number_of_reviews', 'shared', 'host_is_superhost_encoded',\n",
      "       'room_type_encoded', 'antiguedad'],\n",
      "      dtype='object'), Average Score: 0.9220912773842193\n",
      "k=13, Selected Features: Index(['host_acceptance_rate', 'accommodates', 'bathrooms_count', 'bedrooms',\n",
      "       'availability_30', 'availability_60', 'availability_90',\n",
      "       'availability_365', 'number_of_reviews', 'shared',\n",
      "       'host_is_superhost_encoded', 'room_type_encoded', 'antiguedad'],\n",
      "      dtype='object'), Average Score: 0.9228067517157867\n",
      "k=14, Selected Features: Index(['host_acceptance_rate', 'accommodates', 'bathrooms_count', 'bedrooms',\n",
      "       'availability_30', 'availability_60', 'availability_90',\n",
      "       'availability_365', 'number_of_reviews', 'review_scores_value',\n",
      "       'shared', 'host_is_superhost_encoded', 'room_type_encoded',\n",
      "       'antiguedad'],\n",
      "      dtype='object'), Average Score: 0.9229874269751124\n",
      "k=15, Selected Features: Index(['host_response_rate', 'host_acceptance_rate', 'accommodates',\n",
      "       'bathrooms_count', 'bedrooms', 'availability_30', 'availability_60',\n",
      "       'availability_90', 'availability_365', 'number_of_reviews',\n",
      "       'review_scores_value', 'shared', 'host_is_superhost_encoded',\n",
      "       'room_type_encoded', 'antiguedad'],\n",
      "      dtype='object'), Average Score: 0.9229885144734402\n",
      "k=16, Selected Features: Index(['host_response_rate', 'host_acceptance_rate', 'accommodates',\n",
      "       'bathrooms_count', 'bedrooms', 'availability_30', 'availability_60',\n",
      "       'availability_90', 'availability_365', 'number_of_reviews',\n",
      "       'review_scores_value', 'reviews_per_month', 'shared',\n",
      "       'host_is_superhost_encoded', 'room_type_encoded', 'antiguedad'],\n",
      "      dtype='object'), Average Score: 0.9245369881997888\n",
      "k=17, Selected Features: Index(['host_response_rate', 'host_acceptance_rate', 'accommodates',\n",
      "       'bathrooms_count', 'bedrooms', 'availability_30', 'availability_60',\n",
      "       'availability_90', 'availability_365', 'number_of_reviews',\n",
      "       'review_scores_value', 'reviews_per_month', 'shared',\n",
      "       'host_is_superhost_encoded', 'room_type_encoded', 'month',\n",
      "       'antiguedad'],\n",
      "      dtype='object'), Average Score: 0.963884484073368\n",
      "k=18, Selected Features: Index(['host_response_rate', 'host_acceptance_rate', 'accommodates',\n",
      "       'bathrooms_count', 'bedrooms', 'availability_30', 'availability_60',\n",
      "       'availability_90', 'availability_365', 'number_of_reviews',\n",
      "       'review_scores_rating', 'review_scores_value', 'reviews_per_month',\n",
      "       'shared', 'host_is_superhost_encoded', 'room_type_encoded', 'month',\n",
      "       'antiguedad'],\n",
      "      dtype='object'), Average Score: 0.9639041824827146\n",
      "k=19, Selected Features: Index(['host_response_rate', 'host_acceptance_rate', 'accommodates',\n",
      "       'bathrooms_count', 'bedrooms', 'availability_30', 'availability_60',\n",
      "       'availability_90', 'availability_365', 'number_of_reviews',\n",
      "       'review_scores_rating', 'review_scores_value', 'reviews_per_month',\n",
      "       'shared', 'host_is_superhost_encoded', 'room_type_encoded', 'month',\n",
      "       'numero_dia', 'antiguedad'],\n",
      "      dtype='object'), Average Score: 0.9482616238199579\n",
      "k=20, Selected Features: Index(['host_response_rate', 'host_acceptance_rate', 'accommodates',\n",
      "       'bathrooms_count', 'bedrooms', 'availability_30', 'availability_60',\n",
      "       'availability_90', 'availability_365', 'number_of_reviews',\n",
      "       'review_scores_rating', 'review_scores_value', 'reviews_per_month',\n",
      "       'shared', 'host_is_superhost_encoded', 'room_type_encoded', 'month',\n",
      "       'numero_dia', 'antiguedad', 'neighbourhood_cleansed_encoded'],\n",
      "      dtype='object'), Average Score: 0.9483019144000023\n"
     ]
    },
    {
     "data": {
      "image/png": "[encoded data removed]",
      "text/plain": [
       "<Figure size 432x288 with 1 Axes>"
      ]
     },
     "metadata": {
      "needs_background": "light"
     },
     "output_type": "display_data"
    }
   ],
   "source": [
    "k_values = np.arange(2, 21)\n",
    "average_scores_dt = [] \n",
    "\n",
    "for k in k_values:\n",
    "    selector = SelectKBest(f_regression, k=k)\n",
    "    X_new = selector.fit_transform(X_train_reg, y_train)\n",
    "\n",
    "    scores_dt = cross_val_score(model_dt, X_new, y_train, cv=5)\n",
    "    average_score_dt = scores_dt.mean() \n",
    "\n",
    "    selected_features_mask = selector.get_support()\n",
    "    selected_features_dt = X_train_reg.columns[selected_features_mask]\n",
    "\n",
    "    print(f'k={k}, Selected Features: {selected_features_dt}, Average Score: {average_score_dt}')\n",
    "\n",
    "    average_scores_dt.append(average_score_dt)\n",
    "\n",
    "plt.plot(k_values, average_scores_dt, marker='o')\n",
    "plt.title('Average Cross-Validation Score vs. k')\n",
    "plt.xlabel('k (Number of Features)')\n",
    "plt.ylabel('Average Score')\n",
    "plt.show()"
   ]
  },
  {
   "cell_type": "code",
   "execution_count": 13,
   "metadata": {},
   "outputs": [],
   "source": [
    "decision_tree = ['host_response_rate', 'host_acceptance_rate', 'accommodates',\n",
    "       'bathrooms_count', 'bedrooms', 'availability_30', 'availability_60',\n",
    "       'availability_90', 'availability_365', 'number_of_reviews',\n",
    "       'review_scores_rating', 'review_scores_value', 'reviews_per_month',\n",
    "       'shared', 'host_is_superhost_encoded', 'room_type_encoded', 'month',\n",
    "       'antiguedad']\n",
    "\n",
    "X_train_dt = X_train[decision_tree]\n",
    "X_test_dt = X_test[decision_tree]"
   ]
  },
  {
   "cell_type": "code",
   "execution_count": 14,
   "metadata": {},
   "outputs": [],
   "source": [
    "param_grid = {\n",
    "    'max_depth': [None, 10, 20, 30],\n",
    "    'min_samples_split': [2, 5, 10],\n",
    "    'min_samples_leaf': [1, 2, 4]\n",
    "}\n",
    "\n",
    "k_folds = KFold(n_splits=5, shuffle=True, random_state=42)\n",
    "\n",
    "grid_search = GridSearchCV(estimator=model_dt, param_grid=param_grid, scoring='neg_mean_squared_error', cv=k_folds)\n",
    "\n",
    "grid_search.fit(X_train_dt, y_train)\n",
    "\n",
    "best_params = grid_search.best_params_\n",
    "\n",
    "best_model_dt = grid_search.best_estimator_\n",
    "\n",
    "y_train_pred_best_dt = best_model_dt.predict(X_train_dt)\n",
    "\n",
    "mse_train_best_dt = mean_squared_error(y_train, y_train_pred_best_dt)\n",
    "rmse_train_best_dt = np.sqrt(mse_train_best_dt)\n",
    "r2_train_best_dt = r2_score(y_train, y_train_pred_best_dt)\n",
    "mae_train_best_dt = mean_absolute_error(y_train, y_train_pred_best_dt)\n",
    "\n",
    "y_test_pred_best_dt = best_model_dt.predict(X_test_dt)\n",
    "\n",
    "mse_test_best_dt = mean_squared_error(y_test, y_test_pred_best_dt)\n",
    "rmse_test_best_dt = np.sqrt(mse_test_best_dt)\n",
    "r2_test_best_dt = r2_score(y_test, y_test_pred_best_dt)\n",
    "mae_test_best_dt = mean_absolute_error(y_test, y_test_pred_best_dt)"
   ]
  },
  {
   "cell_type": "code",
   "execution_count": 15,
   "metadata": {},
   "outputs": [
    {
     "name": "stdout",
     "output_type": "stream",
     "text": [
      "Best Model:\n",
      "DecisionTreeRegressor(random_state=42)\n",
      "\n",
      "Best Hyperparameters:\n",
      "{'max_depth': None, 'min_samples_leaf': 1, 'min_samples_split': 2}\n",
      "\n",
      "Metrics for Training Set:\n",
      "Mean Squared Error (MSE): 0.029099970645036395\n",
      "Root Mean Squared Error (RMSE): 0.17058713505137602\n",
      "R-squared (R2): 0.9672095303475\n",
      "Mean Absolute Error (MAE): 0.05924682955692456\n",
      "\n",
      "Metrics for Test Set:\n",
      "Mean Squared Error (MSE): 0.031623533481537874\n",
      "Root Mean Squared Error (RMSE): 0.17783006911525923\n",
      "R-squared (R2): 0.9642645915150055\n",
      "Mean Absolute Error (MAE): 0.06180452333727738\n"
     ]
    }
   ],
   "source": [
    "print(\"Best Model:\")\n",
    "print(best_model_dt)\n",
    "\n",
    "print(\"\\nBest Hyperparameters:\")\n",
    "print(best_params)\n",
    "\n",
    "print(\"\\nMetrics for Training Set:\")\n",
    "print(\"Mean Squared Error (MSE):\", mse_train_best_dt)\n",
    "print(\"Root Mean Squared Error (RMSE):\", rmse_train_best_dt)\n",
    "print(\"R-squared (R2):\", r2_train_best_dt)\n",
    "print(\"Mean Absolute Error (MAE):\", mae_train_best_dt)\n",
    "\n",
    "print(\"\\nMetrics for Test Set:\")\n",
    "print(\"Mean Squared Error (MSE):\", mse_test_best_dt)\n",
    "print(\"Root Mean Squared Error (RMSE):\", rmse_test_best_dt)\n",
    "print(\"R-squared (R2):\", r2_test_best_dt)\n",
    "print(\"Mean Absolute Error (MAE):\", mae_test_best_dt)\n"
   ]
  },
  {
   "cell_type": "code",
   "execution_count": 25,
   "metadata": {},
   "outputs": [
    {
     "data": {
      "text/html": [
       "<div>\n",
       "<style scoped>\n",
       "    .dataframe tbody tr th:only-of-type {\n",
       "        vertical-align: middle;\n",
       "    }\n",
       "\n",
       "    .dataframe tbody tr th {\n",
       "        vertical-align: top;\n",
       "    }\n",
       "\n",
       "    .dataframe thead th {\n",
       "        text-align: right;\n",
       "    }\n",
       "</style>\n",
       "<table border=\"1\" class=\"dataframe\">\n",
       "  <thead>\n",
       "    <tr style=\"text-align: right;\">\n",
       "      <th></th>\n",
       "      <th>importances_mean</th>\n",
       "      <th>importances_std</th>\n",
       "      <th>feature</th>\n",
       "    </tr>\n",
       "  </thead>\n",
       "  <tbody>\n",
       "    <tr>\n",
       "      <th>9</th>\n",
       "      <td>0.630368</td>\n",
       "      <td>0.000411</td>\n",
       "      <td>number_of_reviews</td>\n",
       "    </tr>\n",
       "    <tr>\n",
       "      <th>3</th>\n",
       "      <td>0.588989</td>\n",
       "      <td>0.000268</td>\n",
       "      <td>bathrooms_count</td>\n",
       "    </tr>\n",
       "    <tr>\n",
       "      <th>2</th>\n",
       "      <td>0.546881</td>\n",
       "      <td>0.000320</td>\n",
       "      <td>accommodates</td>\n",
       "    </tr>\n",
       "    <tr>\n",
       "      <th>12</th>\n",
       "      <td>0.536286</td>\n",
       "      <td>0.000219</td>\n",
       "      <td>reviews_per_month</td>\n",
       "    </tr>\n",
       "    <tr>\n",
       "      <th>17</th>\n",
       "      <td>0.521087</td>\n",
       "      <td>0.000321</td>\n",
       "      <td>antiguedad</td>\n",
       "    </tr>\n",
       "    <tr>\n",
       "      <th>1</th>\n",
       "      <td>0.494977</td>\n",
       "      <td>0.000339</td>\n",
       "      <td>host_acceptance_rate</td>\n",
       "    </tr>\n",
       "    <tr>\n",
       "      <th>8</th>\n",
       "      <td>0.472058</td>\n",
       "      <td>0.000308</td>\n",
       "      <td>availability_365</td>\n",
       "    </tr>\n",
       "    <tr>\n",
       "      <th>15</th>\n",
       "      <td>0.462712</td>\n",
       "      <td>0.000334</td>\n",
       "      <td>room_type_encoded</td>\n",
       "    </tr>\n",
       "    <tr>\n",
       "      <th>4</th>\n",
       "      <td>0.456680</td>\n",
       "      <td>0.000271</td>\n",
       "      <td>bedrooms</td>\n",
       "    </tr>\n",
       "    <tr>\n",
       "      <th>6</th>\n",
       "      <td>0.436263</td>\n",
       "      <td>0.000275</td>\n",
       "      <td>availability_60</td>\n",
       "    </tr>\n",
       "    <tr>\n",
       "      <th>7</th>\n",
       "      <td>0.331002</td>\n",
       "      <td>0.000359</td>\n",
       "      <td>availability_90</td>\n",
       "    </tr>\n",
       "    <tr>\n",
       "      <th>10</th>\n",
       "      <td>0.329553</td>\n",
       "      <td>0.000249</td>\n",
       "      <td>review_scores_rating</td>\n",
       "    </tr>\n",
       "    <tr>\n",
       "      <th>0</th>\n",
       "      <td>0.322963</td>\n",
       "      <td>0.000239</td>\n",
       "      <td>host_response_rate</td>\n",
       "    </tr>\n",
       "    <tr>\n",
       "      <th>11</th>\n",
       "      <td>0.298174</td>\n",
       "      <td>0.000379</td>\n",
       "      <td>review_scores_value</td>\n",
       "    </tr>\n",
       "    <tr>\n",
       "      <th>5</th>\n",
       "      <td>0.206919</td>\n",
       "      <td>0.000198</td>\n",
       "      <td>availability_30</td>\n",
       "    </tr>\n",
       "    <tr>\n",
       "      <th>13</th>\n",
       "      <td>0.187444</td>\n",
       "      <td>0.000279</td>\n",
       "      <td>shared</td>\n",
       "    </tr>\n",
       "    <tr>\n",
       "      <th>16</th>\n",
       "      <td>0.151591</td>\n",
       "      <td>0.000213</td>\n",
       "      <td>month</td>\n",
       "    </tr>\n",
       "    <tr>\n",
       "      <th>14</th>\n",
       "      <td>0.150615</td>\n",
       "      <td>0.000598</td>\n",
       "      <td>host_is_superhost_encoded</td>\n",
       "    </tr>\n",
       "  </tbody>\n",
       "</table>\n",
       "</div>"
      ],
      "text/plain": [
       "    importances_mean  importances_std                    feature\n",
       "9           0.630368         0.000411          number_of_reviews\n",
       "3           0.588989         0.000268            bathrooms_count\n",
       "2           0.546881         0.000320               accommodates\n",
       "12          0.536286         0.000219          reviews_per_month\n",
       "17          0.521087         0.000321                 antiguedad\n",
       "1           0.494977         0.000339       host_acceptance_rate\n",
       "8           0.472058         0.000308           availability_365\n",
       "15          0.462712         0.000334          room_type_encoded\n",
       "4           0.456680         0.000271                   bedrooms\n",
       "6           0.436263         0.000275            availability_60\n",
       "7           0.331002         0.000359            availability_90\n",
       "10          0.329553         0.000249       review_scores_rating\n",
       "0           0.322963         0.000239         host_response_rate\n",
       "11          0.298174         0.000379        review_scores_value\n",
       "5           0.206919         0.000198            availability_30\n",
       "13          0.187444         0.000279                     shared\n",
       "16          0.151591         0.000213                      month\n",
       "14          0.150615         0.000598  host_is_superhost_encoded"
      ]
     },
     "execution_count": 25,
     "metadata": {},
     "output_type": "execute_result"
    }
   ],
   "source": [
    "importancia = permutation_importance(\n",
    "                estimator    = best_model_dt,\n",
    "                X            = X_train_dt,\n",
    "                y            = y_train,\n",
    "                n_repeats    = 10,\n",
    "                scoring      = 'neg_root_mean_squared_error'\n",
    "             )\n",
    "\n",
    "# Se almacenan los resultados (media y desviación) en un dataframe\n",
    "df_importancia = pd.DataFrame(\n",
    "                    {k: importancia[k] for k in ['importances_mean', 'importances_std']}\n",
    "                 )\n",
    "df_importancia['feature'] = X_train_dt.columns\n",
    "df_importancia.sort_values('importances_mean', ascending=False)\n"
   ]
  },
  {
   "cell_type": "code",
   "execution_count": 22,
   "metadata": {},
   "outputs": [
    {
     "name": "stdout",
     "output_type": "stream",
     "text": [
      "Profundidad del árbol: 49\n",
      "Número de nodos terminales: 203981\n"
     ]
    }
   ],
   "source": [
    "print(f\"Profundidad del árbol: {best_model_dt.get_depth()}\")\n",
    "print(f\"Número de nodos terminales: {best_model_dt.get_n_leaves()}\")"
   ]
  }
 ],
 "metadata": {
  "colab": {
   "provenance": []
  },
  "kernelspec": {
   "display_name": "Python 3",
   "language": "python",
   "name": "python3"
  },
  "language_info": {
   "codemirror_mode": {
    "name": "ipython",
    "version": 3
   },
   "file_extension": ".py",
   "mimetype": "text/x-python",
   "name": "python",
   "nbconvert_exporter": "python",
   "pygments_lexer": "ipython3",
   "version": "3.7.6"
  }
 },
 "nbformat": 4,
 "nbformat_minor": 1
}
